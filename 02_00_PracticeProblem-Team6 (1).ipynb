{
 "cells": [
  {
   "cell_type": "markdown",
   "metadata": {},
   "source": [
    "# Practice Programming Assignment\n",
    "\n",
    "You should try this on your own before trying it as a team. "
   ]
  },
  {
   "cell_type": "markdown",
   "metadata": {},
   "source": [
    "1. Add 3 to the 2nd power to the remainder of 17 divided by 10."
   ]
  },
  {
   "cell_type": "code",
   "execution_count": 1,
   "metadata": {},
   "outputs": [
    {
     "data": {
      "text/plain": [
       "16"
      ]
     },
     "execution_count": 1,
     "metadata": {},
     "output_type": "execute_result"
    }
   ],
   "source": [
    "# Add your answer below this line\n",
    "3**2 + 17 % 10"
   ]
  },
  {
   "cell_type": "markdown",
   "metadata": {},
   "source": [
    "2. Fix the following code:\n",
    "\n",
    "        (3+4)7"
   ]
  },
  {
   "cell_type": "code",
   "execution_count": 3,
   "metadata": {},
   "outputs": [
    {
     "data": {
      "text/plain": [
       "49"
      ]
     },
     "execution_count": 3,
     "metadata": {},
     "output_type": "execute_result"
    }
   ],
   "source": [
    "# Add your answer below this line\n",
    "(3+4) * 7"
   ]
  },
  {
   "cell_type": "markdown",
   "metadata": {},
   "source": [
    "2. Python has a couple of different number types. Write a program that identifies each of the following types:\n",
    "\n",
    "        2\n",
    "        2/3\n",
    "        y = 2 ; x = y+1\n",
    "        \n",
    "        "
   ]
  },
  {
   "cell_type": "code",
   "execution_count": 1,
   "metadata": {},
   "outputs": [
    {
     "name": "stdout",
     "output_type": "stream",
     "text": [
      "<class 'int'>\n",
      "<class 'float'>\n",
      "<class 'int'>\n"
     ]
    }
   ],
   "source": [
    "# Add your answer below this line. Put the entire answer in this code block!\n",
    "\n",
    "print(type(2))\n",
    "print(type(2/3))\n",
    "y = 2 ; x = y+1\n",
    "print(type(x))"
   ]
  },
  {
   "cell_type": "markdown",
   "metadata": {},
   "source": [
    "3. Convert the float below to an integer\n",
    "\n",
    "         9.7"
   ]
  },
  {
   "cell_type": "code",
   "execution_count": 3,
   "metadata": {},
   "outputs": [
    {
     "data": {
      "text/plain": [
       "9"
      ]
     },
     "execution_count": 3,
     "metadata": {},
     "output_type": "execute_result"
    }
   ],
   "source": [
    "# Add your answer below this line. \n",
    "\n",
    "int(9.7)"
   ]
  },
  {
   "cell_type": "markdown",
   "metadata": {},
   "source": [
    "4. Assigning values is easy (we did it in question 2!)\n",
    "\n",
    "a. If you run all of the code below (not one at a time, the whole cell) What does the below evaluate to (when you print the last variable, what is it)?"
   ]
  },
  {
   "cell_type": "markdown",
   "metadata": {},
   "source": [
    "        x = 2\n",
    "        x = 3\n",
    "        x = 4-2\n",
    "        x = 1"
   ]
  },
  {
   "cell_type": "code",
   "execution_count": 7,
   "metadata": {},
   "outputs": [
    {
     "name": "stdout",
     "output_type": "stream",
     "text": [
      "1\n"
     ]
    }
   ],
   "source": [
    "# Add your answer below this line\n",
    "x = 2\n",
    "x = 3\n",
    "x = 4-2\n",
    "x = 1\n",
    "print(x) "
   ]
  },
  {
   "cell_type": "markdown",
   "metadata": {},
   "source": [
    "5. Fix the following code to print \"How's everyone doing so far?\":\n",
    "\n",
    "    check_in 'How's everyone doing so far?'\n",
    "    print(check_in)"
   ]
  },
  {
   "cell_type": "code",
   "execution_count": 11,
   "metadata": {},
   "outputs": [
    {
     "name": "stdout",
     "output_type": "stream",
     "text": [
      "How's everyone doing so far?\n"
     ]
    }
   ],
   "source": [
    "# Add your answer below this line\n",
    "\n",
    "check_in = (r\"How's everyone doing so far?\")\n",
    "print(check_in)"
   ]
  },
  {
   "cell_type": "markdown",
   "metadata": {},
   "source": [
    "6. Put the result of the previous question (the variable *check_in*) to the string below. \n",
    "    'We're all doing fine!'"
   ]
  },
  {
   "cell_type": "code",
   "execution_count": 12,
   "metadata": {},
   "outputs": [
    {
     "data": {
      "text/plain": [
       "\"How's everyone doing so far? We're all doing fine!\""
      ]
     },
     "execution_count": 12,
     "metadata": {},
     "output_type": "execute_result"
    }
   ],
   "source": [
    "# Add your answer below this line\n",
    "check_in + \" We're all doing fine!\""
   ]
  },
  {
   "cell_type": "markdown",
   "metadata": {},
   "source": [
    "7. For the string below (from Wikipedia), write a program that will index out the following: spam and eggs\n",
    "\n",
    "\"An important goal of Python's developers is keeping it fun to use. This is reflected in the language's name—a tribute to the British comedy group Monty Python—and in occasionally playful approaches to tutorials and reference materials, such as examples that refer to spam and eggs (from a famous Monty Python sketch) instead of the standard foo and bar\"\n",
    "\n",
    "Hint #1: You could count it all... or you could try and figure out *how to return the index position of letters in string*\n",
    "\n",
    "Hint #2: Save us Google! You are our only hope.\n",
    "\n",
    "The exerpt is from: https://simple.wikipedia.org/wiki/Python_(programming_language)"
   ]
  },
  {
   "cell_type": "code",
   "execution_count": 13,
   "metadata": {},
   "outputs": [
    {
     "data": {
      "text/plain": [
       "'spam and eggs'"
      ]
     },
     "execution_count": 13,
     "metadata": {},
     "output_type": "execute_result"
    }
   ],
   "source": [
    "# Add your answer below this line\n",
    "monty = \"An important goal of Python's developers is keeping it fun to use. This is reflected in the language's name—a tribute to the British comedy group Monty Python—and in occasionally playful approaches to tutorials and reference materials, such as examples that refer to spam and eggs (from a famous Monty Python sketch) instead of the standard foo and bar\"\n",
    "monty.find('spam and eggs')\n",
    "monty[267:280]"
   ]
  },
  {
   "cell_type": "markdown",
   "metadata": {},
   "source": [
    "8. Create a list of the following values, and name it \"my_list\"\n",
    "\n",
    "7, 3, 4, 6, 7, 8, 2, 1, 12, 5, 6"
   ]
  },
  {
   "cell_type": "code",
   "execution_count": 14,
   "metadata": {},
   "outputs": [
    {
     "data": {
      "text/plain": [
       "[7, 3, 4, 6, 7, 8, 2, 1, 12, 5, 6]"
      ]
     },
     "execution_count": 14,
     "metadata": {},
     "output_type": "execute_result"
    }
   ],
   "source": [
    "# Add your answer below this line\n",
    "my_list = [7, 3, 4, 6, 7, 8, 2, 1, 12, 5, 6]\n",
    "my_list "
   ]
  },
  {
   "cell_type": "markdown",
   "metadata": {},
   "source": [
    "9. Return the first and last element of the list you just created [7, 6] **as another list**"
   ]
  },
  {
   "cell_type": "code",
   "execution_count": 15,
   "metadata": {},
   "outputs": [
    {
     "name": "stdout",
     "output_type": "stream",
     "text": [
      "[7, 6]\n"
     ]
    }
   ],
   "source": [
    "# Add your answer below this line\n",
    "answer = [ my_list[0], my_list[-1]]  \n",
    "print(answer)\n"
   ]
  },
  {
   "cell_type": "markdown",
   "metadata": {},
   "source": [
    "10. Create the below list, with nested lists. Take out the first list (the item names), and print it\n",
    "\n",
    "shopping = [[\"bananas\", \"apples\", \"onions\", \"ice cream\"], [1 , 1, 1, 10], [\"aisle1\", \"aisle1\", \"aisle1\", \"aisle9\"]]"
   ]
  },
  {
   "cell_type": "code",
   "execution_count": 16,
   "metadata": {},
   "outputs": [
    {
     "name": "stdout",
     "output_type": "stream",
     "text": [
      "['bananas', 'apples', 'onions', 'ice cream']\n"
     ]
    }
   ],
   "source": [
    "# Add your answer below this line\n",
    "\n",
    "shopping = [[\"bananas\", \"apples\", \"onions\", \"ice cream\"], [1 , 1, 1, 10], [\"aisle1\", \"aisle1\", \"aisle1\", \"aisle9\"]]\n",
    "#print(shopping)\n",
    "print(shopping[0])"
   ]
  },
  {
   "cell_type": "markdown",
   "metadata": {},
   "source": [
    "## Reflect\n",
    "### 10 points\n",
    "\n",
    "This exercise does not need to be any more than 2-3 paragraphs, you are free to write more if you have more to say! \n",
    "\n",
    "1. Discuss, as a team, why you are taking this course and what you hope to learn/achieve/do. Write a brief paragraph about that discussion and what you learned. \n",
    "\n",
    "    The members of the team all had similar answers, I explained that I am taking this class because I love organizing and interpreting data and this class seems like a great way to learn just that. I really hope by the end of this course that I am able to proficiently code using the Python language and hopefully adapt this skill for different workplace tasks. \n",
    "    \n",
    "    My other teammates had some input: Mark said he is interested in \"how the future of work will be dominated by an increasing need for technological skills due to the rapid proliferation of Artificial Intelligence and Automation.\" Ekaterina said she wants to \"use programming to solve the tasks in the work field and hopes to learn how to use Python and to be able to apply the knowledge to solve business tasks.\" Michael says he is  \"taking this class to refine data analytic skills and learn new methodologies to solve complex problems through the power of data.\" \n",
    "    \n",
    "\n",
    "2. Discuss the assignment: (some prompts below: you can choose one of these or pick your own idea)\n",
    "    * In what way do you think lists may be useful? Can you think of a business case for lists?\n",
    "\n",
    "   Nicole: I think list can be helpful as a way to categorize data. I believe that creating list will make it easy to dissect larger groups of data and help me to explain the data in digestible pieces to those who are  unfamiliar with its complex nature. In terms of business cases, lists could be helpful if a business is trying to analyze their competitors and profits, or materials and their cost.\n",
    "   \n",
    "   Mark:I think that lists are most helpful in categorizing data into smaller subsets. For instance, from an accounting perspective, a list could be useful in organizing which of our clients we suspect will be unable to pay their debts to us, and thus which accounts on our accounts Receivables are owed by our clients.\n",
    "    \n",
    "    Ekaterina:I think that lists can be useful whenever it comes to categorizing big sets of data.\n",
    "   \n",
    "   Michael: Given that a list is a mutable and ordered container meant to store data in a orderly fashion it can be a really powerful tool for storing different data types.  For example you can have an overall object being the patient in a hospital and use list to store different elements of that patient like a UI which would be there case number, a list for when the date that patient came in, a list for the procedure done and a list of that patients insurance provider. Now you have multiple list variables that you can pull from for this one object to do an analysis on."
   ]
  }
 ],
 "metadata": {
  "kernelspec": {
   "display_name": "Python 3",
   "language": "python",
   "name": "python3"
  },
  "language_info": {
   "codemirror_mode": {
    "name": "ipython",
    "version": 3
   },
   "file_extension": ".py",
   "mimetype": "text/x-python",
   "name": "python",
   "nbconvert_exporter": "python",
   "pygments_lexer": "ipython3",
   "version": "3.7.6"
  }
 },
 "nbformat": 4,
 "nbformat_minor": 4
}
