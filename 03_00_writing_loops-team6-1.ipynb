{
 "cells": [
  {
   "cell_type": "markdown",
   "metadata": {},
   "source": [
    "# Loops and Practice\n",
    "\n",
    "Each question is worth 4 points. 10 questions = 40 points. In all cases full points are given when the code runs and has the correct output. Partial credit will be given for a good try.\n",
    "\n",
    "Reflection is worth 10 points."
   ]
  },
  {
   "cell_type": "markdown",
   "metadata": {},
   "source": [
    "#### 1. For each data type below. Create a variable of that type, and briefly (1 line or less) describe the data types properties in the comment above.\n",
    "    \n",
    "            Example \n",
    "             Integers are a whole number (like 2), not a fraction (like 2.5)\n",
    "             x = 1"
   ]
  },
  {
   "cell_type": "code",
   "execution_count": 80,
   "metadata": {},
   "outputs": [
    {
     "name": "stdout",
     "output_type": "stream",
     "text": [
      "<class 'int'>\n",
      "<class 'float'>\n",
      "<class 'str'>\n",
      "<class 'bool'>\n",
      "<class 'complex'>\n"
     ]
    }
   ],
   "source": [
    "# integers- whole numbers\n",
    "x = 2\n",
    "print(type(x))\n",
    "\n",
    "# float- point numbers ie. real numbers \n",
    "y = 1.1\n",
    "print(type(y))\n",
    "\n",
    "# string- characters or text\n",
    "s = 'abc'\n",
    "print(type(s))\n",
    "\n",
    "# Boolean-true/false values\n",
    "b = True\n",
    "print(type(b))\n",
    "\n",
    "# Complex Numbers-an expression which includes n, an integer or float and j,the standard notion for the imaginary number \n",
    "c = (3+2j)\n",
    "print(type(c))"
   ]
  },
  {
   "cell_type": "markdown",
   "metadata": {},
   "source": [
    "#### 2. Explain and demonstrate the rules regarding variable naming in Python. Explain 4 rules. \n",
    "#https://www.w3schools.com/python/gloss_python_variable_names.asp"
   ]
  },
  {
   "cell_type": "code",
   "execution_count": 2,
   "metadata": {},
   "outputs": [
    {
     "ename": "SyntaxError",
     "evalue": "invalid syntax (<ipython-input-2-d589d8e20365>, line 3)",
     "output_type": "error",
     "traceback": [
      "\u001b[1;36m  File \u001b[1;32m\"<ipython-input-2-d589d8e20365>\"\u001b[1;36m, line \u001b[1;32m3\u001b[0m\n\u001b[1;33m    Chocolate covered strawberries = x\u001b[0m\n\u001b[1;37m                    ^\u001b[0m\n\u001b[1;31mSyntaxError\u001b[0m\u001b[1;31m:\u001b[0m invalid syntax\n"
     ]
    }
   ],
   "source": [
    "#Example\n",
    "#Python variable names cannot have a space.\n",
    "Chocolate covered strawberries = x"
   ]
  },
  {
   "cell_type": "code",
   "execution_count": 3,
   "metadata": {},
   "outputs": [
    {
     "ename": "NameError",
     "evalue": "name 'x' is not defined",
     "output_type": "error",
     "traceback": [
      "\u001b[1;31m---------------------------------------------------------------------------\u001b[0m",
      "\u001b[1;31mNameError\u001b[0m                                 Traceback (most recent call last)",
      "\u001b[1;32m<ipython-input-3-c81b493bdaea>\u001b[0m in \u001b[0;36m<module>\u001b[1;34m\u001b[0m\n\u001b[0;32m      1\u001b[0m \u001b[1;31m#Do not begin variable names with an underscore\u001b[0m\u001b[1;33m\u001b[0m\u001b[1;33m\u001b[0m\u001b[1;33m\u001b[0m\u001b[0m\n\u001b[1;32m----> 2\u001b[1;33m \u001b[0m_morning\u001b[0m\u001b[1;33m=\u001b[0m \u001b[0mx\u001b[0m\u001b[1;33m\u001b[0m\u001b[1;33m\u001b[0m\u001b[0m\n\u001b[0m",
      "\u001b[1;31mNameError\u001b[0m: name 'x' is not defined"
     ]
    }
   ],
   "source": [
    "#Do not begin variable names with an underscore\n",
    "_morning= x"
   ]
  },
  {
   "cell_type": "code",
   "execution_count": 4,
   "metadata": {},
   "outputs": [
    {
     "ename": "SyntaxError",
     "evalue": "invalid syntax (<ipython-input-4-e3b763cdd07d>, line 2)",
     "output_type": "error",
     "traceback": [
      "\u001b[1;36m  File \u001b[1;32m\"<ipython-input-4-e3b763cdd07d>\"\u001b[1;36m, line \u001b[1;32m2\u001b[0m\n\u001b[1;33m    ^#@= x\u001b[0m\n\u001b[1;37m    ^\u001b[0m\n\u001b[1;31mSyntaxError\u001b[0m\u001b[1;31m:\u001b[0m invalid syntax\n"
     ]
    }
   ],
   "source": [
    "#A variable name can only contain alpha-numeric characters and underscores (A-z, 0-9, and _ )\n",
    "^#@= x"
   ]
  },
  {
   "cell_type": "code",
   "execution_count": 5,
   "metadata": {},
   "outputs": [
    {
     "ename": "SyntaxError",
     "evalue": "invalid syntax (<ipython-input-5-77fa0997429c>, line 2)",
     "output_type": "error",
     "traceback": [
      "\u001b[1;36m  File \u001b[1;32m\"<ipython-input-5-77fa0997429c>\"\u001b[1;36m, line \u001b[1;32m2\u001b[0m\n\u001b[1;33m    4flowers=x\u001b[0m\n\u001b[1;37m           ^\u001b[0m\n\u001b[1;31mSyntaxError\u001b[0m\u001b[1;31m:\u001b[0m invalid syntax\n"
     ]
    }
   ],
   "source": [
    "#A variable name cannot start with a number\n",
    "4flowers=x"
   ]
  },
  {
   "cell_type": "markdown",
   "metadata": {},
   "source": [
    "#### 3. Explain and demonstrate what happens when you perform operations (like multiplication or division) across different variable types. Show at least 4 examples. \n",
    "\n",
    "    example: string * int\n",
    "   "
   ]
  },
  {
   "cell_type": "markdown",
   "metadata": {},
   "source": [
    "Example 1: string * float \n",
    "\n",
    "Strings and floats cannot be multiplied or divided because strings are text or characters and you cannot do math with these two variables  "
   ]
  },
  {
   "cell_type": "code",
   "execution_count": 89,
   "metadata": {},
   "outputs": [
    {
     "ename": "TypeError",
     "evalue": "can't multiply sequence by non-int of type 'float'",
     "output_type": "error",
     "traceback": [
      "\u001b[1;31m---------------------------------------------------------------------------\u001b[0m",
      "\u001b[1;31mTypeError\u001b[0m                                 Traceback (most recent call last)",
      "\u001b[1;32m<ipython-input-89-ddadf86de558>\u001b[0m in \u001b[0;36m<module>\u001b[1;34m\u001b[0m\n\u001b[0;32m      1\u001b[0m \u001b[0mx\u001b[0m\u001b[1;33m=\u001b[0m \u001b[1;34m\"yellow\"\u001b[0m\u001b[1;33m\u001b[0m\u001b[1;33m\u001b[0m\u001b[0m\n\u001b[0;32m      2\u001b[0m \u001b[0my\u001b[0m\u001b[1;33m=\u001b[0m\u001b[1;36m2.0\u001b[0m\u001b[1;33m\u001b[0m\u001b[1;33m\u001b[0m\u001b[0m\n\u001b[1;32m----> 3\u001b[1;33m \u001b[0mprint\u001b[0m\u001b[1;33m(\u001b[0m\u001b[0mx\u001b[0m \u001b[1;33m*\u001b[0m \u001b[0my\u001b[0m\u001b[1;33m)\u001b[0m\u001b[1;33m\u001b[0m\u001b[1;33m\u001b[0m\u001b[0m\n\u001b[0m",
      "\u001b[1;31mTypeError\u001b[0m: can't multiply sequence by non-int of type 'float'"
     ]
    }
   ],
   "source": [
    "x= \"yellow\"\n",
    "y=2.0\n",
    "print(x * y)"
   ]
  },
  {
   "cell_type": "markdown",
   "metadata": {},
   "source": [
    "Example 2 : int / float\n",
    "\n",
    "Integers and floats can be multiplied or divided because they both numbers"
   ]
  },
  {
   "cell_type": "code",
   "execution_count": 84,
   "metadata": {},
   "outputs": [
    {
     "name": "stdout",
     "output_type": "stream",
     "text": [
      "0.09615384615384615\n"
     ]
    }
   ],
   "source": [
    "x=2\n",
    "y=20.8\n",
    "print(x/y)"
   ]
  },
  {
   "cell_type": "markdown",
   "metadata": {},
   "source": [
    "Example 3: string * int\n",
    "\n",
    "Multiplication can work with these two because integers are whole numbers which can tell a string show up more than once"
   ]
  },
  {
   "cell_type": "code",
   "execution_count": 91,
   "metadata": {},
   "outputs": [
    {
     "name": "stdout",
     "output_type": "stream",
     "text": [
      "welcomewelcomewelcomewelcomewelcome\n"
     ]
    }
   ],
   "source": [
    "x=\"welcome\"\n",
    "y=5\n",
    "print(x*y)"
   ]
  },
  {
   "cell_type": "markdown",
   "metadata": {},
   "source": [
    "Example 4: complex numbers * string\n",
    "\n",
    "Complex numbers and string do not work together for obvious reasons. Strings are text or characters an complex numbers are numbers"
   ]
  },
  {
   "cell_type": "code",
   "execution_count": 92,
   "metadata": {},
   "outputs": [
    {
     "ename": "SyntaxError",
     "evalue": "invalid syntax (<ipython-input-92-8ca0d5cb5145>, line 1)",
     "output_type": "error",
     "traceback": [
      "\u001b[1;36m  File \u001b[1;32m\"<ipython-input-92-8ca0d5cb5145>\"\u001b[1;36m, line \u001b[1;32m1\u001b[0m\n\u001b[1;33m    x=(4=5i)\u001b[0m\n\u001b[1;37m        ^\u001b[0m\n\u001b[1;31mSyntaxError\u001b[0m\u001b[1;31m:\u001b[0m invalid syntax\n"
     ]
    }
   ],
   "source": [
    "x=(4=5i)\n",
    "y= \"vanilla\"\n",
    "print(x*y)"
   ]
  },
  {
   "cell_type": "markdown",
   "metadata": {},
   "source": [
    "#### 4. Write an if statement that evaluates if a variable (y) if greater than or equal to 100, and prints "
   ]
  },
  {
   "cell_type": "code",
   "execution_count": 77,
   "metadata": {},
   "outputs": [
    {
     "name": "stdout",
     "output_type": "stream",
     "text": [
      "greater than 100\n"
     ]
    }
   ],
   "source": [
    "y=110\n",
    "if y>=100:\n",
    " print('greater than 100') "
   ]
  },
  {
   "cell_type": "markdown",
   "metadata": {},
   "source": [
    "#### 5. Print the following pattern using a for loop\n",
    "\n",
    "1  \n",
    "1 2   \n",
    "1 2 3   \n",
    "1 2 3 4   \n",
    "1 2 3 4 5   \n",
    "1 2 3 4 5 6   \n",
    "1 2 3 4 5 6 7   \n",
    "1 2 3 4 5 6 7 8   \n",
    "1 2 3 4 5 6 7 8 9   \n",
    "1 2 3 4 5 6 7 8 9 10  "
   ]
  },
  {
   "cell_type": "code",
   "execution_count": 64,
   "metadata": {},
   "outputs": [
    {
     "name": "stdout",
     "output_type": "stream",
     "text": [
      "1 \n",
      "1 2 \n",
      "1 2 3 \n",
      "1 2 3 4 \n",
      "1 2 3 4 5 \n",
      "1 2 3 4 5 6 \n",
      "1 2 3 4 5 6 7 \n",
      "1 2 3 4 5 6 7 8 \n",
      "1 2 3 4 5 6 7 8 9 \n",
      "1 2 3 4 5 6 7 8 9 10 \n"
     ]
    }
   ],
   "source": [
    "# use this cell for your answer. Please ensure the entire answer is within this cell. \n",
    "r=10\n",
    "for i in range(1, r+1): \n",
    "    for c in range(1,i+1):\n",
    "     print(c, end=' ') \n",
    "    print() "
   ]
  },
  {
   "cell_type": "markdown",
   "metadata": {},
   "source": [
    "#### 6. Given any list of positive values: iterate over the list and print/display numbers that are divisible by 2. Ensure the loop stops if it finds a number greater than 100.  An example list is provided, but your code should work on any list of postive values it is passed, of any length. "
   ]
  },
  {
   "cell_type": "code",
   "execution_count": 6,
   "metadata": {},
   "outputs": [
    {
     "data": {
      "text/plain": [
       "[18, 20, 28, 60, 100]"
      ]
     },
     "execution_count": 6,
     "metadata": {},
     "output_type": "execute_result"
    }
   ],
   "source": [
    "#example of a list you can use to test your code\n",
    "##but you are free to create another list if you like... \n",
    "evenlist = [1, 9, 18, 20, 28, 37, 60, 79, 89, 100, 102]\n",
    "[x for x in evenlist if x % 2==0 and x<=100]\n",
    "#https://youtu.be/z0P60_ataYM"
   ]
  },
  {
   "cell_type": "markdown",
   "metadata": {},
   "source": [
    "#### 7. Using a variable 'tminus', a positive integer between 1-10, create a countdown timer that starts at tminus, and ends at 0, printing each integer along the way. At the end, generate a statement (can be anything). "
   ]
  },
  {
   "cell_type": "code",
   "execution_count": 1,
   "metadata": {},
   "outputs": [
    {
     "name": "stdout",
     "output_type": "stream",
     "text": [
      "6\n",
      "5\n",
      "4\n",
      "3\n",
      "2\n",
      "1\n",
      "0\n",
      "Happy New Year!\n"
     ]
    }
   ],
   "source": [
    "# write your solution below\n",
    "tminus = 6\n",
    "import time\n",
    "for i in range(6,-1,-1):\n",
    "    print(i)\n",
    "    time.sleep(1)\n",
    "print(\"Happy New Year!\")\n",
    "#https://youtu.be/V_fQelIBr0A"
   ]
  },
  {
   "cell_type": "markdown",
   "metadata": {},
   "source": [
    "#### 8. Create a function that takes 2 numerical arguments, and performs an operation on them.  Print the result of that operation, explain what the function does. "
   ]
  },
  {
   "cell_type": "code",
   "execution_count": 7,
   "metadata": {},
   "outputs": [
    {
     "name": "stdout",
     "output_type": "stream",
     "text": [
      "27\n"
     ]
    }
   ],
   "source": [
    "# This scenario creates a name for a function which is now stored in the system and can be used throughout each document.\n",
    "def multiply(x,y):\n",
    "    return((x*y))\n",
    "\n",
    "x=multiply(9,3)\n",
    "print(x)"
   ]
  },
  {
   "cell_type": "markdown",
   "metadata": {},
   "source": [
    "#### 9. Create a 'while loop' with a break that will take in a variable 'low' which is less that another variable 'high'. Print every value of low +2, and break when the value is greater than or equal to 'high'.  \n"
   ]
  },
  {
   "cell_type": "code",
   "execution_count": 24,
   "metadata": {},
   "outputs": [
    {
     "name": "stdout",
     "output_type": "stream",
     "text": [
      "1\n",
      "3\n",
      "5\n",
      "7\n",
      "9\n",
      "11\n",
      "13\n",
      "15\n",
      "17\n",
      "19\n",
      "21\n",
      "23\n",
      "25\n",
      "27\n",
      "29\n",
      "31\n",
      "33\n",
      "35\n",
      "37\n",
      "39\n",
      "41\n",
      "43\n",
      "45\n",
      "47\n",
      "49\n",
      "51\n",
      "53\n",
      "55\n",
      "57\n",
      "59\n",
      "61\n",
      "63\n",
      "65\n",
      "67\n",
      "69\n",
      "71\n",
      "73\n",
      "75\n",
      "77\n",
      "79\n",
      "81\n",
      "83\n",
      "85\n",
      "87\n",
      "89\n",
      "91\n",
      "93\n",
      "95\n",
      "97\n",
      "99\n",
      "101\n"
     ]
    }
   ],
   "source": [
    "# write your solution below\n",
    "#example:\n",
    "low = 1\n",
    "high = 100\n",
    "x = 1\n",
    "\n",
    "while x > 0:\n",
    "    print(x)\n",
    "    x = x + 2\n",
    "    if x >= high:\n",
    "        break\n",
    "print(x) "
   ]
  },
  {
   "cell_type": "markdown",
   "metadata": {},
   "source": [
    "#### 10. Create as many functions as you have team members (1 function per team member, 1 function cell and 1 markdown cell per team member). Seriously...any function! Explain what your function does, and how it might be useful. Demonstrate it's 'usefulness'. If it is not at all useful, explain why your function is essentially useless. Have fun.\n",
    "\n",
    "(note: to receive points for this exercise, ALL of the functions below this markdown cell must run. If a function has an error, correct it before submitting).\n"
   ]
  },
  {
   "cell_type": "code",
   "execution_count": 29,
   "metadata": {},
   "outputs": [
    {
     "data": {
      "text/plain": [
       "20"
      ]
     },
     "execution_count": 29,
     "metadata": {},
     "output_type": "execute_result"
    }
   ],
   "source": [
    "#Nicole's Example\n",
    "#My function multiplies two numbers. This can very useful if I decide to go to the mall and buy\n",
    "#5 shirts at 4 dollars each. With this function, I can easily figure our the price of my items.\n",
    "\n",
    "def multiply(x,y):\n",
    "    return((x*y))\n",
    "multiply(5,4)\n"
   ]
  },
  {
   "cell_type": "code",
   "execution_count": 27,
   "metadata": {},
   "outputs": [
    {
     "name": "stdout",
     "output_type": "stream",
     "text": [
      "47.28708045015879\n"
     ]
    }
   ],
   "source": [
    "#Michael's Example\n",
    "def CAGR_form(begin, final, time):\n",
    "    CAGR = (final/begin)**(1/time) * 100\n",
    "    return CAGR\n",
    "    \n",
    "growth_metric = CAGR_form(20000,1000,4)\n",
    "print(growth_metric) "
   ]
  },
  {
   "cell_type": "code",
   "execution_count": 28,
   "metadata": {},
   "outputs": [
    {
     "name": "stdout",
     "output_type": "stream",
     "text": [
      "6\n"
     ]
    }
   ],
   "source": [
    "#Ekaterina's Example\n",
    "def addmeup(x, y, z):\n",
    "    addme = x + y + z\n",
    "    return addme\n",
    "    \n",
    "p = addmeup(2,3,1)\n",
    "print(p) "
   ]
  },
  {
   "cell_type": "markdown",
   "metadata": {},
   "source": [
    "Mark Jones did not turn in this portion"
   ]
  },
  {
   "cell_type": "markdown",
   "metadata": {},
   "source": [
    "# Reflection\n",
    "\n",
    "This is one submission per team. \n",
    "\n",
    "This exercise does not need to be any more than 2-3 paragraphs, you are free to write more if you have more to say! \n",
    "\n",
    "1. Discuss, as a team, why you are taking this course and what you hope to learn/achieve/do. Have one team member write a brief paragraph about that discussion and what you learned. \n",
    "\n",
    "\n",
    "2. Discuss the course so far: (some prompts below: you can choose one of these or pick your own idea)\n",
    "    * For this specific assignment, were there any problems that you encounterd? How did you solve them?\n",
    "    * Summarize your thoughts so far (week 3). Is this too easy? Too hard? Just right?\n",
    "    * What are some business domains you would like to cover in depth in later weeks? (I have left some space in the course to address some of these, so let me know what you would like to see in terms of business problems and we will incorporate as many as we can)"
   ]
  },
  {
   "cell_type": "markdown",
   "metadata": {},
   "source": [
    "Nicole:\n",
    "1) For this course, I hope that I can take away a skill that helps me in my future career, I want to be able to\n",
    "    code to make things easier for me an my co-workers.\n",
    "2) During this assignment, I had to look up a ton of answers, \n",
    "    it took me about 9 hours to complete because I was having a hard time understanding why I was performing certain\n",
    "    function. I was able to YouTube a lot of the questions but it was very tough for me. \n",
    "    Hopefully it'll get easier with practice.\n",
    "\n",
    "Micheal:\n",
    "1) The reason that I am taking this course is because I think data can be very impactful in making strategic business decisions and I hope to one day become a data scientist. I think this course will reinforce foundational knowledge and provide essential methodologies that will help utilize data in my career. I hope to learn implementation methodologies.\n",
    "\n",
    "2) A business domain that I am particularly interested in is the healthcare industry and specifically the business side. Some aspects that have really been interesting to me are the formulation of utilization reports, financial forecasting models with machine learning and the operation of dealing messy data. Another aspect that has really been interesting to me is automating the boring stuff and I know we talked about this before.\n",
    "\n",
    "Ekaterina:\n",
    "1) I am taking this course to feel more comfortable programming in Python and solving business tasks. I hope to learn skills that are valuable in the area of business analytics.\n",
    "\n",
    "2) I think it is a bit hard now especially in comparison with the previous week because of the speed at which we are covering the material. I realized it when I was working on the assignment. \n",
    "\n",
    "Mark:\n",
    "1) I am taking this course because I want to learn more about Information Systems and Operations Management, Data Analytics, Python/Introductory Coding, and how this all relates to Accounting.\n",
    "\n",
    " \n",
    "\n",
    "2)For this specific assignment, the main problems I encountered were in the later problems (Question 5-10). I tried to solve these problems using online resources.\n",
    "In later weeks, one topic that I would like to cover in depth is \"Machine Learning\" as I read a book on how Machine Learning is being used to automate away office jobs such as insurance agent."
   ]
  }
 ],
 "metadata": {
  "kernelspec": {
   "display_name": "Python 3",
   "language": "python",
   "name": "python3"
  },
  "language_info": {
   "codemirror_mode": {
    "name": "ipython",
    "version": 3
   },
   "file_extension": ".py",
   "mimetype": "text/x-python",
   "name": "python",
   "nbconvert_exporter": "python",
   "pygments_lexer": "ipython3",
   "version": "3.7.6"
  }
 },
 "nbformat": 4,
 "nbformat_minor": 4
}
